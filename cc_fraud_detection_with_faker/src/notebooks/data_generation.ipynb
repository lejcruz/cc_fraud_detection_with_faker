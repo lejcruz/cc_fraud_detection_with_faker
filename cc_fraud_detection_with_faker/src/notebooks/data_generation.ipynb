{
 "cells": [
  {
   "cell_type": "code",
   "execution_count": 1,
   "metadata": {},
   "outputs": [
    {
     "name": "stdout",
     "output_type": "stream",
     "text": [
      "c:\\Users\\lejcr\\projetos\\cc_fraud_detection_with_faker\\cc_fraud_detection_with_faker\\src\\notebooks\n",
      "c:\\Users\\lejcr\\projetos\\cc_fraud_detection_with_faker\\cc_fraud_detection_with_faker\\src\n"
     ]
    }
   ],
   "source": [
    "import os\n",
    "\n",
    "ACTUAL_PATH = os.getcwd()\n",
    "NEW_PATH = os.path.dirname(ACTUAL_PATH)\n",
    "\n",
    "os.chdir(NEW_PATH)\n",
    "\n",
    "print(ACTUAL_PATH)\n",
    "print(NEW_PATH)"
   ]
  },
  {
   "cell_type": "code",
   "execution_count": 2,
   "metadata": {},
   "outputs": [],
   "source": [
    "import math\n",
    "import os\n",
    "import random\n",
    "from datetime import date, datetime, timedelta\n",
    "\n",
    "import faker\n",
    "import pandas as pd\n",
    "from faker import Faker\n",
    "\n",
    "from sparkov_data_generation.datagen_customer import generate_customers\n",
    "from sparkov_data_generation.datagen_transaction import generate_transactions"
   ]
  },
  {
   "cell_type": "code",
   "execution_count": 3,
   "metadata": {},
   "outputs": [
    {
     "data": {
      "text/plain": [
       "['adults_2550_female_rural.json',\n",
       " 'adults_2550_female_urban.json',\n",
       " 'adults_2550_male_rural.json',\n",
       " 'adults_2550_male_urban.json',\n",
       " 'adults_50up_female_rural.json',\n",
       " 'adults_50up_female_urban.json',\n",
       " 'adults_50up_male_rural.json',\n",
       " 'adults_50up_male_urban.json',\n",
       " 'young_adults_female_rural.json',\n",
       " 'young_adults_female_urban.json',\n",
       " 'young_adults_male_rural.json',\n",
       " 'young_adults_male_urban.json']"
      ]
     },
     "execution_count": 3,
     "metadata": {},
     "output_type": "execute_result"
    }
   ],
   "source": [
    "profiles = [\n",
    "    p\n",
    "    for p in os.listdir(\"sparkov_data_generation/profiles\")\n",
    "    if p.startswith(\"adults\") or (p.startswith(\"young\"))\n",
    "]\n",
    "profiles"
   ]
  },
  {
   "cell_type": "code",
   "execution_count": 4,
   "metadata": {},
   "outputs": [],
   "source": [
    "# Faker seed number to ensure constant customer list\n",
    "seed_num = 161809\n",
    "\n",
    "# initial number of customers\n",
    "initial_cust_base_size = 3000\n",
    "\n",
    "# generate n months worth of data\n",
    "n_months = 12\n",
    "start_dt = datetime.strptime(\"2021-01-01\", \"%Y-%m-%d\")\n",
    "end_dt = start_dt + pd.offsets.MonthEnd(n_months)\n",
    "\n",
    "cust_list = pd.DataFrame()\n",
    "# txn_df = pd.DataFrame()\n",
    "\n",
    "# output directory and file naming conventions\n",
    "data_base_dir = \"data/\"\n",
    "customer_output_file = f\"{data_base_dir}/customers_list.csv\"\n",
    "txn_output_file = \"_txn.csv\"\n",
    "\n",
    "# create output directory if not existing\n",
    "os.makedirs(data_base_dir, exist_ok=True)"
   ]
  },
  {
   "cell_type": "code",
   "execution_count": 5,
   "metadata": {},
   "outputs": [],
   "source": [
    "fake = Faker()\n",
    "Faker.seed(seed_num)"
   ]
  },
  {
   "cell_type": "code",
   "execution_count": 6,
   "metadata": {},
   "outputs": [
    {
     "name": "stdout",
     "output_type": "stream",
     "text": [
      "Date 2021-01-01 00:00:00\n",
      "Number of customers newly onboard:  3000\n",
      "Total customer:  3000\n"
     ]
    }
   ],
   "source": [
    "for dt in (start_dt + timedelta(n) for n in range(int((end_dt - start_dt).days))):\n",
    "    print(\"Date\", dt)\n",
    "\n",
    "    if dt == start_dt:\n",
    "        num_new_customers = initial_cust_base_size\n",
    "    else:\n",
    "        increment = random.uniform(0.01, 0.03)\n",
    "        num_new_customers = math.ceil(len(cust_list) * increment)\n",
    "\n",
    "    print(\"Number of customers newly onboard: \", num_new_customers)\n",
    "\n",
    "    new_cust_list = generate_customers(\n",
    "        fake, num_new_customers, \"sparkov_data_generation/profiles/main_config.json\"\n",
    "    )\n",
    "\n",
    "    cust_list = pd.concat([cust_list, new_cust_list], ignore_index=True)\n",
    "\n",
    "    print(\"Total customer: \", len(cust_list))\n",
    "\n",
    "    new_cust_list.to_csv(\n",
    "        customer_output_file,\n",
    "        mode=\"a\",\n",
    "        header=not os.path.exists(customer_output_file),\n",
    "        index=False,\n",
    "    )\n",
    "\n",
    "    for p in profiles:\n",
    "        # generate txns for the new customers from current date to the end date\n",
    "        new_cust_txn_df = generate_transactions(new_cust_list, p, dt, end_dt)\n",
    "\n",
    "        print(f\"Number of transaction ({p}): \", len(new_cust_txn_df))\n",
    "        \n",
    "        new_cust_txn_file = p.split('.json')[0] + txn_output_file\n",
    "        \n",
    "        new_cust_txn_df.to_csv(\n",
    "            os.path.join(data_base_dir, new_cust_txn_file),\n",
    "            mode=\"a\",\n",
    "            header=not os.path.exists(f\"{data_base_dir}{p}{txn_output_file}\"),\n",
    "            index=False,\n",
    "        )\n",
    "        "
   ]
  },
  {
   "cell_type": "code",
   "execution_count": null,
   "metadata": {},
   "outputs": [],
   "source": [
    "print(f\"Number of customers: {len(cust_list)}\")"
   ]
  },
  {
   "cell_type": "code",
   "execution_count": null,
   "metadata": {},
   "outputs": [],
   "source": []
  }
 ],
 "metadata": {
  "interpreter": {
   "hash": "3bda5f8e60f3e2f615d93b3e16d86b139276a13453d70c98446ef4c90550df06"
  },
  "kernelspec": {
   "display_name": "Python 3.9.10 ('venv': venv)",
   "language": "python",
   "name": "python3"
  },
  "language_info": {
   "codemirror_mode": {
    "name": "ipython",
    "version": 3
   },
   "file_extension": ".py",
   "mimetype": "text/x-python",
   "name": "python",
   "nbconvert_exporter": "python",
   "pygments_lexer": "ipython3",
   "version": "3.9.10"
  },
  "orig_nbformat": 4
 },
 "nbformat": 4,
 "nbformat_minor": 2
}
